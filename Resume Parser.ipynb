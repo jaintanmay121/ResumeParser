{
 "cells": [
  {
   "cell_type": "code",
   "execution_count": 1,
   "metadata": {},
   "outputs": [],
   "source": [
    "from pdfminer.pdfinterp import PDFResourceManager, PDFPageInterpreter\n",
    "from pdfminer.converter import TextConverter\n",
    "from pdfminer.layout import LAParams\n",
    "from pdfminer.pdfpage import PDFPage\n",
    "from io import StringIO"
   ]
  },
  {
   "cell_type": "code",
   "execution_count": 2,
   "metadata": {},
   "outputs": [],
   "source": [
    "def convert_pdf_to_txt(path):\n",
    "    rsrcmgr = PDFResourceManager()\n",
    "    retstr = StringIO()\n",
    "    codec = 'utf-8'\n",
    "    laparams = LAParams()\n",
    "    device = TextConverter(rsrcmgr, retstr, codec=codec, laparams=laparams)\n",
    "    fp = open(path, 'rb')\n",
    "    interpreter = PDFPageInterpreter(rsrcmgr, device)\n",
    "    password = \"\"\n",
    "    maxpages = 0\n",
    "    caching = True\n",
    "    pagenos=set()\n",
    "\n",
    "    for page in PDFPage.get_pages(fp, pagenos, maxpages=maxpages, password=password,caching=caching, check_extractable=True):\n",
    "        interpreter.process_page(page)\n",
    "\n",
    "    text = retstr.getvalue()\n",
    "\n",
    "    fp.close()\n",
    "    device.close()\n",
    "    retstr.close()\n",
    "    return text"
   ]
  },
  {
   "cell_type": "code",
   "execution_count": 3,
   "metadata": {},
   "outputs": [],
   "source": [
    "import re\n",
    "import nltk\n",
    "from nltk.tokenize import word_tokenize\n",
    "from nltk.tag import pos_tag\n",
    "from nltk import word_tokenize, pos_tag, ne_chunk"
   ]
  },
  {
   "cell_type": "code",
   "execution_count": 4,
   "metadata": {},
   "outputs": [],
   "source": [
    "def getPhone(text):\n",
    "    try:\n",
    "        pattern = re.compile(r'([+(]?\\d+[)\\-]?[ \\t\\r\\f\\v]*[(]?\\d{2,}[()\\-]?[ \\t\\r\\f\\v]*\\d{2,}[()\\-]?[ \\t\\r\\f\\v]*\\d*[ \\t\\r\\f\\v]*\\d*[ \\t\\r\\f\\v]*)')\n",
    "        phone = pattern.findall(text)\n",
    "        phone = [re.sub(r'[,.]', '', el) for el in phone if len(re.sub(r'[()\\-.,\\s+]', '', el))>6]\n",
    "        phone = [re.sub(r'\\D$', '', el).strip() for el in phone]\n",
    "        phone = [el for el in phone if len(re.sub(r'\\D','',el)) <= 13 and len(re.sub(r'\\D','',el))>=10]\n",
    "        return phone[0]\n",
    "    except:\n",
    "        return None"
   ]
  },
  {
   "cell_type": "code",
   "execution_count": 5,
   "metadata": {},
   "outputs": [],
   "source": [
    "def getEmail(text): \n",
    "    \n",
    "    try:\n",
    "        pattern = re.compile(r'\\S*@\\S*')\n",
    "        email = pattern.findall(text)\n",
    "        return email[0]\n",
    "    except:\n",
    "        return None"
   ]
  },
  {
   "cell_type": "code",
   "execution_count": 6,
   "metadata": {},
   "outputs": [],
   "source": [
    "def getExperience(sentences):\n",
    "    try:\n",
    "        sen=[]\n",
    "        z=0\n",
    "        for words in sentences:\n",
    "            for i in range(len(words)):\n",
    "                if(words[i][0].lower()=='experience') or (words[i][0].lower()=='internships'):\n",
    "                    index=[z,i]\n",
    "                    break\n",
    "            z+=1\n",
    "        \n",
    "        exp=[]\n",
    "        for i in sentences[index[0]][index[1]+1:]:\n",
    "            if i[0].isalpha() and i[1]=='NNP':\n",
    "                exp.append(i[0])\n",
    "        \n",
    "        return exp        \n",
    "        \n",
    "    except:\n",
    "        return None"
   ]
  },
  {
   "cell_type": "code",
   "execution_count": 7,
   "metadata": {},
   "outputs": [],
   "source": [
    "def getQual(sentences):\n",
    "    sen=[]\n",
    "    z=0\n",
    "    i2=[]\n",
    "    i1=[]\n",
    "    quals=['school','graduated','graduation','education','college','vidyalaya','vishwavidyalaya','university','mahavidyalaya','institute']\n",
    "    for words in sentences:\n",
    "        for i in range(len(words)):\n",
    "            if(words[i][0].lower() in quals):\n",
    "                i1.append(i)\n",
    "                i2.append(z)\n",
    "        z+=1\n",
    "\n",
    "    i2=list(dict.fromkeys(i2))\n",
    "\n",
    "    qual=[]\n",
    "    for i in i2:\n",
    "        if i==i2[0]:\n",
    "            qual.append((\" \".join([sentences[i][k][0] for k in range(i1[0]+1, len(sentences[i]))])))\n",
    "        else:\n",
    "            qual.append((\" \".join([sentences[i][k][0] for k in range(len(sentences[i]))])))\n",
    "        \n",
    "        \n",
    "    return qual"
   ]
  },
  {
   "cell_type": "code",
   "execution_count": 22,
   "metadata": {},
   "outputs": [],
   "source": [
    "def getSkills(sentences):\n",
    "    try:\n",
    "        sen=[]\n",
    "        z=0\n",
    "        for words in sentences:\n",
    "            for i in range(len(words)):\n",
    "                if(words[i][0].lower()=='skills') and words[i][1]=='NNP':\n",
    "                    index =[z,i]\n",
    "                    break\n",
    "            z+=1\n",
    "\n",
    "        skills=[]\n",
    "        for i in sentences[index[0]][index[1]+1:]:\n",
    "            if i[0].isalpha() and i[1]=='NNP':\n",
    "                skills.append(i[0])\n",
    "\n",
    "        return skills\n",
    "    except:\n",
    "        return None"
   ]
  },
  {
   "cell_type": "code",
   "execution_count": 21,
   "metadata": {},
   "outputs": [],
   "source": [
    "def getCertification(sentences):\n",
    "    try:\n",
    "        sen=[]\n",
    "        z=0\n",
    "        global index\n",
    "        for words in sentences:\n",
    "            for i in range(len(words)):\n",
    "                if(words[i][0].lower()=='certifications'):\n",
    "                    index=[z,i]\n",
    "                    break\n",
    "            z+=1\n",
    "\n",
    "        certis=\" \".join([sentences[index[0]][k][0] for k in range(1,len(sentences[index[0]]))])\n",
    "\n",
    "        return certis\n",
    "    except:\n",
    "        return None"
   ]
  },
  {
   "cell_type": "code",
   "execution_count": 36,
   "metadata": {},
   "outputs": [],
   "source": [
    "def getDetails(text):\n",
    "    \n",
    "    sentences=nltk.sent_tokenize(text)\n",
    "    sentences=[nltk.word_tokenize(el) for el in sentences]\n",
    "    sentences=[nltk.pos_tag(el) for el in sentences]\n",
    "    phone=getPhone(text)\n",
    "    mail=getEmail(text)\n",
    "    exp=getExperience(sentences)\n",
    "    quals=getQual(sentences)\n",
    "    skills=getSkills(sentences)\n",
    "    certis=getCertification(sentences)\n",
    "    dict={\n",
    "        'Phone_no': phone,\n",
    "        'Email':mail,\n",
    "        'Experience': exp,\n",
    "        'Qualification':quals,\n",
    "        'Skills': skills,\n",
    "        'Certifications': certis\n",
    "    }\n",
    "    return dict"
   ]
  },
  {
   "cell_type": "code",
   "execution_count": 32,
   "metadata": {},
   "outputs": [],
   "source": [
    "text=convert_pdf_to_txt(\"\")   # Enter the path to the resume here"
   ]
  },
  {
   "cell_type": "code",
   "execution_count": 37,
   "metadata": {},
   "outputs": [],
   "source": [
    "details=getDetails(text)"
   ]
  },
  {
   "cell_type": "code",
   "execution_count": 34,
   "metadata": {},
   "outputs": [
    {
     "data": {
      "text/plain": [
       "dict_keys(['Phone_no', 'Email', 'Experience', 'Qualification', 'Skills', 'Certifications'])"
      ]
     },
     "execution_count": 34,
     "metadata": {},
     "output_type": "execute_result"
    }
   ],
   "source": [
    "details.keys()"
   ]
  },
  {
   "cell_type": "code",
   "execution_count": 35,
   "metadata": {},
   "outputs": [
    {
     "data": {
      "text/plain": [
       "{'Phone_no': '9211753453',\n",
       " 'Email': 'Jaintanmay121@gmail.com',\n",
       " 'Experience': None,\n",
       " 'Qualification': ['2009-2017 HIGH SCHOOL , ABHINAV PUBLIC SCHOOL , PITAMPURA , DELHI Graduated with 10 CGPA in 10th from CBSE Boards ( 2015 ) .',\n",
       "  'Graduated with 91.4 % in 12th from CBSE Boards ( 2017 ) .',\n",
       "  '2017-PRESENT BACHELOR OF TECHNOLOGY ( CSE ) , HMR INSTITUTE OF TECHNOLOGY AND MANAGEMENT , HAMIDPUR , DELHI ( GGSIPU AFFILIATED ) Currently holding a score of 71 % .'],\n",
       " 'Skills': ['Python',\n",
       "  'Data',\n",
       "  'Analysis',\n",
       "  'Data',\n",
       "  'Visualization',\n",
       "  'C',\n",
       "  'SQL',\n",
       "  'HTML',\n",
       "  'CSS',\n",
       "  'SKILLS',\n",
       "  'Good'],\n",
       " 'Certifications': 'PYTHON Hackveda , Sector-18 , Rohini MACHINE LEARNING Brain Mentors Pvt .'}"
      ]
     },
     "execution_count": 35,
     "metadata": {},
     "output_type": "execute_result"
    }
   ],
   "source": [
    "details"
   ]
  }
 ],
 "metadata": {
  "kernelspec": {
   "display_name": "Python 3",
   "language": "python",
   "name": "python3"
  },
  "language_info": {
   "codemirror_mode": {
    "name": "ipython",
    "version": 3
   },
   "file_extension": ".py",
   "mimetype": "text/x-python",
   "name": "python",
   "nbconvert_exporter": "python",
   "pygments_lexer": "ipython3",
   "version": "3.7.1"
  }
 },
 "nbformat": 4,
 "nbformat_minor": 2
}
